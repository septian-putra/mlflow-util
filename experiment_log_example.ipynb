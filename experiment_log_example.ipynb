{
 "cells": [
  {
   "cell_type": "markdown",
   "metadata": {},
   "source": [
    "# Experiment"
   ]
  },
  {
   "cell_type": "code",
   "execution_count": null,
   "metadata": {},
   "outputs": [],
   "source": [
    "import os, warnings, sys, shutil\n",
    "import pandas as pd,  numpy as np\n",
    "from sklearn.metrics import mean_squared_error, mean_absolute_error, r2_score\n",
    "from sklearn.model_selection import train_test_split\n",
    "from sklearn.linear_model import ElasticNet\n",
    "from sklearn.externals import joblib\n",
    "from mlflow.sklearn import log_model\n",
    "import mlflow"
   ]
  },
  {
   "cell_type": "code",
   "execution_count": null,
   "metadata": {},
   "outputs": [],
   "source": [
    "hyperparam = {\n",
    "                'alpha' : 0.45,\n",
    "                'l1_ratio' : 0.65\n",
    "             }\n",
    "metric = {}\n",
    "config = {\n",
    "            'experiment_name': 'mlflow_test3',\n",
    "            'user_id': 'Septian',\n",
    "            'tracking_uri': 'http://172.31.45.72:5000',\n",
    "            'artifact_location': 's3://cig-ds-dev/mlflow/mlflow_test2',\n",
    "            'use_git_version': True\n",
    "         }\n",
    "\n",
    "model_path = os.path.expanduser('~/model')\n",
    "if not os.path.isdir(model_path): os.makedirs(model_path)"
   ]
  },
  {
   "cell_type": "code",
   "execution_count": null,
   "metadata": {},
   "outputs": [],
   "source": [
    "from experiment import Experiment"
   ]
  },
  {
   "cell_type": "code",
   "execution_count": null,
   "metadata": {},
   "outputs": [],
   "source": [
    "# Initiate the experiment and run entities\n",
    "ex_log = Experiment(config)\n",
    "ex_log.create_run('run_1')"
   ]
  },
  {
   "cell_type": "code",
   "execution_count": null,
   "metadata": {},
   "outputs": [],
   "source": [
    "%%time\n",
    "warnings.filterwarnings(\"ignore\")\n",
    "np.random.seed(40)\n",
    "\n",
    "# Read the wine-quality csv file (make sure you're running this from the root of MLflow!)\n",
    "wine_path = os.path.join(os.getcwd(), \"wine-quality.csv\")\n",
    "data = pd.read_csv(wine_path)\n",
    "\n",
    "# Split the data into training and test sets. (0.75, 0.25) split.\n",
    "train, test = train_test_split(data)\n",
    "\n",
    "# The predicted column is \"quality\" which is a scalar from [3, 9]\n",
    "train_x = train.drop([\"quality\"], axis=1)\n",
    "test_x = test.drop([\"quality\"], axis=1)\n",
    "train_y = train[[\"quality\"]]\n",
    "test_y = test[[\"quality\"]]"
   ]
  },
  {
   "cell_type": "code",
   "execution_count": null,
   "metadata": {},
   "outputs": [],
   "source": [
    "def eval_metrics(actual, pred):\n",
    "    rmse = np.sqrt(mean_squared_error(actual, pred))\n",
    "    mae = mean_absolute_error(actual, pred)\n",
    "    r2 = r2_score(actual, pred)\n",
    "    return rmse, mae, r2"
   ]
  },
  {
   "cell_type": "code",
   "execution_count": null,
   "metadata": {},
   "outputs": [],
   "source": [
    "lr = ElasticNet(alpha=hyperparam['alpha'], l1_ratio=hyperparam['l1_ratio'], random_state=42)\n",
    "lr.fit(train_x, train_y)\n",
    "\n",
    "predicted_qualities = lr.predict(test_x)\n",
    "\n",
    "(metric['rmse'], metric['mae'], metric['r2']) = eval_metrics(test_y, predicted_qualities)\n",
    "\n",
    "print(\"Elasticnet model (alpha=%f, l1_ratio=%f):\" % (hyperparam['alpha'], hyperparam['l1_ratio']))\n",
    "print(\"  RMSE: %s\" % metric['rmse'])\n",
    "print(\"  MAE: %s\" % metric['mae'])\n",
    "print(\"  R2: %s\" %  metric['r2'])"
   ]
  },
  {
   "cell_type": "code",
   "execution_count": null,
   "metadata": {},
   "outputs": [],
   "source": [
    "# Save the hyperparam & metric\n",
    "ex_log.log_params(hyperparam)\n",
    "ex_log.log_metrics(metric)"
   ]
  },
  {
   "cell_type": "code",
   "execution_count": null,
   "metadata": {},
   "outputs": [],
   "source": [
    "# Save artifacts (model, vectorizer, etc)\n",
    "# mlflow.sklearn.log_model(lr, 'model')\n",
    "shutil.rmtree(model_path)\n",
    "if not os.path.isdir(model_path): os.makedirs(model_path)\n",
    "joblib.dump(lr, os.path.join(model_path, 'model.pkl'))\n",
    "ex_log.log_artifacts(model_path,'model')"
   ]
  },
  {
   "cell_type": "code",
   "execution_count": null,
   "metadata": {},
   "outputs": [],
   "source": [
    "# Terminate run\n",
    "ex_log.terminate_run()"
   ]
  }
 ],
 "metadata": {
  "kernelspec": {
   "display_name": "Python 3",
   "language": "python",
   "name": "python3"
  },
  "language_info": {
   "codemirror_mode": {
    "name": "ipython",
    "version": 3
   },
   "file_extension": ".py",
   "mimetype": "text/x-python",
   "name": "python",
   "nbconvert_exporter": "python",
   "pygments_lexer": "ipython3",
   "version": "3.6.7"
  }
 },
 "nbformat": 4,
 "nbformat_minor": 2
}
